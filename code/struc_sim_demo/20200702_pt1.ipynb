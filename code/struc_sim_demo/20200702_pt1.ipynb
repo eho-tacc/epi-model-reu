{
 "cells": [
  {
   "cell_type": "code",
   "execution_count": null,
   "metadata": {},
   "outputs": [],
   "source": [
    "from Bio import PDB"
   ]
  },
  {
   "cell_type": "markdown",
   "metadata": {},
   "source": [
    "# Structural Similarity Demo\n",
    "____\n",
    "In the [sequence similarity demo](../seq_sim_demo/20200706_seq_sim.ipynb), we explored the differences in the primary sequence (amino acid sequence) of TMPRSS2 between human and other animal homologs. We identified some amino acid properties (amino acid volume, hydrophobicity, charge/acidity) and constructed an algorithm for determining if a mutation at a single site has a large, moderate, or minimal effect, based on changes in these properties.\n",
    "\n",
    "It is natural to ask the question: **why do these amino acid properties matter, and how does changing these properties affect the structure and function of the protein?** This is the question we will be answering in this structural similarity demo. We will split this question into 2-3 separate parts:\n",
    "1. Qualitatively explore how amino acid properties affect 2º and 3º structure of the protein, and how they might affect function.\n",
    "2. Develop a semi-quantitative model that explains how single site amino acid mutations could affect the overall function of the TMPRSS2 protein, compared to the human homolog. We will do this by extending the sequence iterator algorithm that we developed in the [sequence similarity demo](../seq_sim_demo/20200706_seq_sim.ipynb).\n",
    "3. **Optional**: compare our semi-quantitative model to other variant -> function models in the literature, such as [SIFT](http://www.sbg.bio.ic.ac.uk/~phyre2/html/page.cgi?id=index) and [PhyreRisk](http://phyrerisk.bc.ic.ac.uk/search?action=fresh-search&searchTerm=O15393)."
   ]
  },
  {
   "cell_type": "markdown",
   "metadata": {},
   "source": [
    "# Part #1\n",
    "____\n",
    "## Intro to Bio.PDB and NGL\n",
    "In order to view protein structures inside of Jupyter notebooks, we will use a molecular structure viewer called NGL. It has a handy `nglview` extension that supports Jupyter notebooks ([GitHub](https://github.com/arose/nglview))."
   ]
  },
  {
   "cell_type": "code",
   "execution_count": null,
   "metadata": {},
   "outputs": [],
   "source": [
    "import nglview"
   ]
  },
  {
   "cell_type": "markdown",
   "metadata": {},
   "source": [
    "Using `nglview` is simple: we load a protein structure as a PDB file, either from the [RCSB](http://rcsb.org):"
   ]
  },
  {
   "cell_type": "code",
   "execution_count": null,
   "metadata": {
    "scrolled": true
   },
   "outputs": [],
   "source": [
    "# load \"3pqr\" from RCSB PDB and display viewer\n",
    "rcsb_view = nglview.show_pdbid(\"3pqr\") \n",
    "rcsb_view"
   ]
  },
  {
   "cell_type": "markdown",
   "metadata": {},
   "source": [
    "### NGL viewer key bindings\n",
    "* **Rotate molecule**: left click and drag\n",
    "* **Zoom**: scroll up/down\n",
    "* **Translate molecule**: right click and drag"
   ]
  },
  {
   "cell_type": "markdown",
   "metadata": {},
   "source": [
    "We can also load protein structures that are stored locally as `*.pdb` files. In this example, we use a PDB file that was generated using the [Swiss-Model homology model generator](https://swissmodel.expasy.org/repository/uniprot/O15393). It is the **estimated** structure of human TMPRSS2 isoform 1:"
   ]
  },
  {
   "cell_type": "code",
   "execution_count": null,
   "metadata": {},
   "outputs": [],
   "source": [
    "!ls ../../data/structures/"
   ]
  },
  {
   "cell_type": "code",
   "execution_count": null,
   "metadata": {},
   "outputs": [],
   "source": [
    "tmprss2_view = nglview.show_file(\n",
    "    '../../data/structures/O15393_swiss_model.pdb')\n",
    "tmprss2_view"
   ]
  },
  {
   "cell_type": "markdown",
   "metadata": {},
   "source": [
    "Another cool feature of `nglview` is that it has Biopython support: [Bio.PDB](https://biopython.org/wiki/The_Biopython_Structural_Bioinformatics_FAQ) structures can be loaded. Let's try loading our Swiss-Prot structure this way:"
   ]
  },
  {
   "cell_type": "code",
   "execution_count": null,
   "metadata": {},
   "outputs": [],
   "source": [
    "# instantiate a BioPython PDBParser\n",
    "parser = PDB.PDBParser()\n",
    "\n",
    "# use the PDBParser to load our PDB file\n",
    "# into a Bio.PDB.Structure.Structure instance\n",
    "bio_pdb_structure = parser.get_structure(\n",
    "    \"protein\", '../../data/structures/O15393_swiss_model.pdb')\n",
    "\n",
    "# load the Bio.PDB.Structure.Structure into nglview\n",
    "bio_pdb_view = nglview.show_biopython(bio_pdb_structure)\n",
    "bio_pdb_view"
   ]
  },
  {
   "cell_type": "markdown",
   "metadata": {},
   "source": [
    "## Looking at the catalytic triad\n",
    "In the [sequence similarity demo](../seq_sim_demo/20200706_seq_sim.ipynb), we compiled a list of residues that the literature implicates as important in binding and cleaving the S protein. These residues include the catalytic triad (H296, D345 and S441) and important binding residues (D435, K223, and K224).\n",
    "\n",
    "The numberings of these amino acids were for isoform 1, which is shorter than isoform 2. In the [sequence similarity demo](../seq_sim_demo/20200706_seq_sim.ipynb), we were looking at the sequence of isoform 2, so we had to adjust these positions by 37 amino acids. Here, we are looking a the sequence of isoform 1, so we do not need to make this adjustment. `nglview` also uses the standard 1-indexing for residue numbering, so we do not need to subtract 1 to get the index in a 0-indexed list, like we did for the [sequence similarity demo](../seq_sim_demo/20200706_seq_sim.ipynb).\n",
    "\n",
    "Let's start by converting the list of important residues to a Python list:"
   ]
  },
  {
   "cell_type": "code",
   "execution_count": null,
   "metadata": {},
   "outputs": [],
   "source": [
    "resi_interest = [296, 345 , 441, 435, 223, 224]"
   ]
  },
  {
   "cell_type": "markdown",
   "metadata": {},
   "source": [
    "We will first look at the H296 residue in the catalytic triad. We can zoom in and show this residue as [sticks representation](https://github.com/arose/nglview#representations) in `nglview`:"
   ]
  },
  {
   "cell_type": "code",
   "execution_count": null,
   "metadata": {},
   "outputs": [],
   "source": [
    "# add licorice (AKA sticks) representation, only for residue 296\n",
    "tmprss2_view.add_representation('licorice', selection='296')\n",
    "\n",
    "# center the view on residue 296\n",
    "tmprss2_view.center(selection='296')\n",
    "\n",
    "# show the protein viewer\n",
    "tmprss2_view"
   ]
  },
  {
   "cell_type": "markdown",
   "metadata": {},
   "source": [
    "We can easily change the `selection` parameter so that we zoom in and show sticks for all three residues in the catalytic triad:"
   ]
  },
  {
   "cell_type": "code",
   "execution_count": null,
   "metadata": {},
   "outputs": [],
   "source": [
    "# define the catalytic residue selection the integer\n",
    "# residue numbers need to be converted to strings\n",
    "resi_interest_as_str = [str(position) for position in resi_interest]\n",
    "cata_triad_sele = \", \".join(resi_interest_as_str[:3])\n",
    "cata_triad_sele"
   ]
  },
  {
   "cell_type": "markdown",
   "metadata": {},
   "source": [
    "## Exercise\n",
    "* Turn the above cell into a function that takes a list and returns a string"
   ]
  },
  {
   "cell_type": "code",
   "execution_count": null,
   "metadata": {},
   "outputs": [],
   "source": [
    "# add licorice (AKA sticks) representation, only for the catalytic triad\n",
    "tmprss2_view.add_representation('licorice', selection=cata_triad_sele)\n",
    "\n",
    "# center the view on the catalytic triad\n",
    "tmprss2_view.center(selection=cata_triad_sele)\n",
    "\n",
    "# show the protein viewer\n",
    "tmprss2_view"
   ]
  },
  {
   "cell_type": "markdown",
   "metadata": {},
   "source": [
    "# What is the effect of changing an amino acid at a single site?\n",
    "As an example of how we might answer this question, let's look at a few examples of residues that are important for TMPRSS2's enzymatic activity and its stability.\n",
    "\n",
    "To do this, I used the [mutagenesis tool in Pymol](https://pymolwiki.org/index.php/Mutagenesis) to make single-site amino acid substitutions at various positions. I then saved the mutated structure as a new PDB file at `O15393_swiss_model_mut1.pdb`."
   ]
  },
  {
   "cell_type": "code",
   "execution_count": null,
   "metadata": {},
   "outputs": [],
   "source": [
    "# residues of interest around K225\n",
    "lys_mut = [224, 220, 219, 225, 222]"
   ]
  },
  {
   "cell_type": "code",
   "execution_count": null,
   "metadata": {
    "scrolled": true
   },
   "outputs": [],
   "source": [
    "# load the mutated structure\n",
    "mut_view = nglview.show_file(\n",
    "    '../../data/structures/O15393_swiss_model_mut1.pdb')\n",
    "\n",
    "# load the wild type structure in the same view\n",
    "mut_view.add_component(\n",
    "    '../../data/structures/O15393_swiss_model.pdb')\n",
    "\n",
    "# remove representations for the wild type structure\n",
    "# we will add custom representations ourselves\n",
    "mut_view.component_1.clear_representations()\n",
    "\n",
    "# set the second structure to have licorice representation\n",
    "# in grey coloring, only for the residues that were mutated\n",
    "mut_view.component_0.add_licorice(selection='224, 220, 219, 225, 222')\n",
    "\n",
    "# for the WT structure, show the old residues if they were mutated\n",
    "mut_view.component_1.add_licorice(selection='224, 225', color='cyan')\n",
    "\n",
    "# zoom to this area\n",
    "mut_view.center(selection='224, 220, 219, 225, 222')\n",
    "\n",
    "# show the view\n",
    "mut_view"
   ]
  },
  {
   "cell_type": "code",
   "execution_count": null,
   "metadata": {},
   "outputs": [],
   "source": [
    "# show only the first (0) or second (1) structure\n",
    "# mut_view.show_only(indices=[0])\n",
    "# mut_view.show_only(indices=[1])"
   ]
  },
  {
   "cell_type": "markdown",
   "metadata": {},
   "source": [
    "## Questions\n",
    "1. How do you think the `K224L` mutation would affect stability or function of the protein?\n",
    "2. What about the `H225L` mutation?"
   ]
  },
  {
   "cell_type": "markdown",
   "metadata": {},
   "source": [
    "# What happens if you mutate a residue in the catalytic triad?"
   ]
  },
  {
   "cell_type": "code",
   "execution_count": null,
   "metadata": {},
   "outputs": [],
   "source": [
    "cata_triad_sele"
   ]
  },
  {
   "cell_type": "code",
   "execution_count": null,
   "metadata": {
    "scrolled": true
   },
   "outputs": [],
   "source": [
    "cat_triad_mut_view = nglview.show_file(\n",
    "    '../../data/structures/O15393_swiss_model_mut1.pdb')\n",
    "cat_triad_mut_view.add_component(\n",
    "    '../../data/structures/O15393_swiss_model.pdb')\n",
    "\n",
    "cat_triad_mut_view.component_1.clear_representations()\n",
    "cat_triad_mut_view.component_0.add_licorice(selection=cata_triad_sele)\n",
    "cat_triad_mut_view.component_1.add_licorice(selection='441', color='cyan')\n",
    "cat_triad_mut_view.center(selection=cata_triad_sele)\n",
    "\n",
    "cat_triad_mut_view"
   ]
  },
  {
   "cell_type": "markdown",
   "metadata": {},
   "source": [
    "## Questions\n",
    "1. What is the effect of the `S441G` mutation on enzyme activity?"
   ]
  },
  {
   "cell_type": "markdown",
   "metadata": {},
   "source": [
    "# Disrupting a disulfide"
   ]
  },
  {
   "cell_type": "code",
   "execution_count": null,
   "metadata": {
    "scrolled": true
   },
   "outputs": [],
   "source": [
    "disulf_mut_view = nglview.show_file(\n",
    "    '../../data/structures/O15393_swiss_model_mut1.pdb')\n",
    "disulf_mut_view.add_component(\n",
    "    '../../data/structures/O15393_swiss_model.pdb')\n",
    "\n",
    "disulf_mut_view.component_1.clear_representations()\n",
    "disulf_mut_view.component_0.add_licorice(selection='172, 231')\n",
    "disulf_mut_view.component_1.add_licorice(selection='231', color='cyan')\n",
    "disulf_mut_view.center(selection='172, 231')\n",
    "\n",
    "disulf_mut_view"
   ]
  },
  {
   "cell_type": "markdown",
   "metadata": {},
   "source": [
    "## Questions\n",
    "1. What is the predicted effect of `C231A` mutation in respect to protein stability?"
   ]
  },
  {
   "cell_type": "markdown",
   "metadata": {},
   "source": [
    "## Exercise\n",
    "1. Another important residue in this structure is `D435`, which [Meng et al.](https://www.biorxiv.org/content/10.1101/2020.02.08.926006v3.full) suggest is important for binding the S protein substrate. What is the structural context of `D435`? Show the context using `nglview` or Pymol.\n",
    "2. Qualitatively, would be the expected effect on TMPRSS2 stability and function if we mutated `D435` to each of the following amino acids:\n",
    "    1. Glycine\n",
    "    2. Tryptophan\n",
    "    3. Asparagine\n",
    "    \n",
    "Optionally, show a detailed comparison of each mutation using Pymol, using Pymol's `mutagenesis` tool."
   ]
  }
 ],
 "metadata": {
  "kernelspec": {
   "display_name": "Python 3",
   "language": "python",
   "name": "python3"
  },
  "language_info": {
   "codemirror_mode": {
    "name": "ipython",
    "version": 3
   },
   "file_extension": ".py",
   "mimetype": "text/x-python",
   "name": "python",
   "nbconvert_exporter": "python",
   "pygments_lexer": "ipython3",
   "version": "3.7.6"
  }
 },
 "nbformat": 4,
 "nbformat_minor": 4
}
