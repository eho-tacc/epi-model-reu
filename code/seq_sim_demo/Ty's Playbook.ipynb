{
 "cells": [
  {
   "cell_type": "code",
   "execution_count": null,
   "metadata": {},
   "outputs": [],
   "source": [
    "# for position in hum_mouse_pssm.pssm:\n",
    "    # resi_in_human = position[0]\n",
    "    #resi_dict=position[1]\n",
    "    #if resi_in_human ==\"-\": \n",
    "        # continue\n",
    "    #else:\n",
    "        # position_counter += 1\n",
    "    #if position[1][resi_in_human] > 1:\n",
    "        #print(f\"mouse and human are the same at position\" + f\"{position_counter}, which is amino acid {resi_in_human}\")\n",
    "            # for position[1][resi_in_human] > 1 in hum_mouse_pssm.pssm:\n",
    "                #if position[0] == [\"D\", \"E\"]:\n",
    "                    #print(f\"mouse and human have the same acidic amino acid at position\" + f\"{position_counter}, which is amino {resi_in_human}\")\n",
    "                #elif position[0]==[\"R\", \"H\", \"K\"]:\n",
    "                    #Print(f\"mouse and human have the same basic amino acid at position\" + f\"{position_counter}, which is amino acid {resi_in_human}\")\n"
   ]
  },
  {
   "cell_type": "code",
   "execution_count": 11,
   "metadata": {},
   "outputs": [
    {
     "name": "stdout",
     "output_type": "stream",
     "text": [
      "[master 2abc946] Ty's Playbook\r\n",
      " Committer: tferrel6 <tferrel6@DESKTOP-B1G8E0F.localdomain>\r\n",
      "Your name and email address were configured automatically based\r\n",
      "on your username and hostname. Please check that they are accurate.\r\n",
      "You can suppress this message by setting them explicitly:\r\n",
      "\r\n",
      "    git config --global user.name \"Your Name\"\r\n",
      "    git config --global user.email you@example.com\r\n",
      "\r\n",
      "After doing this, you may fix the identity used for this commit with:\r\n",
      "\r\n",
      "    git commit --amend --reset-author\r\n",
      "\r\n",
      " 1 file changed, 64 insertions(+)\r\n",
      " create mode 100644 code/seq_sim_demo/Ty's Playbook.ipynb\r\n"
     ]
    }
   ],
   "source": [
    "!git commit -m \"Ty's Playbook\""
   ]
  },
  {
   "cell_type": "code",
   "execution_count": 12,
   "metadata": {},
   "outputs": [
    {
     "name": "stdout",
     "output_type": "stream",
     "text": [
      "remote: Enumerating objects: 46, done.\u001b[K\n",
      "remote: Counting objects: 100% (45/45), done.\u001b[K\n",
      "remote: Compressing objects: 100% (25/25), done.\u001b[K\n",
      "remote: Total 38 (delta 19), reused 32 (delta 13), pack-reused 0\u001b[K\n",
      "Unpacking objects: 100% (38/38), 48.09 KiB | 72.00 KiB/s, done.\n",
      "From https://github.com/eho-tacc/epi-model-reu\n",
      "   2777993..b915528  master     -> origin/master\n"
     ]
    }
   ],
   "source": [
    "!git fetch"
   ]
  },
  {
   "cell_type": "code",
   "execution_count": null,
   "metadata": {},
   "outputs": [
    {
     "name": "stdout",
     "output_type": "stream",
     "text": [
      "Username for 'https://github.com': "
     ]
    }
   ],
   "source": [
    "!git push "
   ]
  },
  {
   "cell_type": "code",
   "execution_count": 10,
   "metadata": {},
   "outputs": [],
   "source": [
    "!git config --global user.name \"tferrel6\""
   ]
  },
  {
   "cell_type": "code",
   "execution_count": null,
   "metadata": {},
   "outputs": [],
   "source": [
    "species_aln_list = [\n",
    "    record for record in dom_aln\n",
    "    if record.description == 'Felis catus', 'Mus musculus', 'Canis lupus familiaris', 'Bos taurus', 'Equus caballus', 'Gallus gallus'\n",
    "]\n",
    "species_aln = MultipleSeqAlignment(species_aln_list)\n",
    "len(species_aln)\n",
    "species_aln_summary = AlignInfo.SummaryInfo(species_aln)\n",
    "species_aln_summary\n",
    "species_aln_consensus = species_aln_summary.dumb_consensus()\n",
    "species_aln_consensus \n",
    "species_con"
   ]
  }
 ],
 "metadata": {
  "kernelspec": {
   "display_name": "Python 3",
   "language": "python",
   "name": "python3"
  },
  "language_info": {
   "codemirror_mode": {
    "name": "ipython",
    "version": 3
   },
   "file_extension": ".py",
   "mimetype": "text/x-python",
   "name": "python",
   "nbconvert_exporter": "python",
   "pygments_lexer": "ipython3",
   "version": "3.8.2"
  }
 },
 "nbformat": 4,
 "nbformat_minor": 4
}
