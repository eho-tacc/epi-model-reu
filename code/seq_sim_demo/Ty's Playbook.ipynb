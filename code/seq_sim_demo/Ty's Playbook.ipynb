{
 "cells": [
  {
   "cell_type": "code",
   "execution_count": null,
   "metadata": {},
   "outputs": [],
   "source": [
    "# for position in hum_mouse_pssm.pssm:\n",
    "    # resi_in_human = position[0]\n",
    "    #resi_dict=position[1]\n",
    "    #if resi_in_human ==\"-\": \n",
    "        # continue\n",
    "    #else:\n",
    "        # position_counter += 1\n",
    "    #if position[1][resi_in_human] > 1:\n",
    "        #print(f\"mouse and human are the same at position\" + f\"{position_counter}, which is amino acid {resi_in_human}\")\n",
    "            # for position[1][resi_in_human] > 1 in hum_mouse_pssm.pssm:\n",
    "                #if position[0] == [\"D\", \"E\"]:\n",
    "                    #print(f\"mouse and human have the same acidic amino acid at position\" + f\"{position_counter}, which is amino {resi_in_human}\")\n",
    "                #elif position[0]==[\"R\", \"H\", \"K\"]:\n",
    "                    #Print(f\"mouse and human have the same basic amino acid at position\" + f\"{position_counter}, which is amino acid {resi_in_human}\")\n"
   ]
  },
  {
   "cell_type": "code",
   "execution_count": 1,
   "metadata": {},
   "outputs": [
    {
     "name": "stdout",
     "output_type": "stream",
     "text": [
      "/home/tferrel6/epi-model-reu/code/seq_sim_demo\r\n"
     ]
    }
   ],
   "source": [
    "!pwd"
   ]
  }
 ],
 "metadata": {
  "kernelspec": {
   "display_name": "Python 3",
   "language": "python",
   "name": "python3"
  },
  "language_info": {
   "codemirror_mode": {
    "name": "ipython",
    "version": 3
   },
   "file_extension": ".py",
   "mimetype": "text/x-python",
   "name": "python",
   "nbconvert_exporter": "python",
   "pygments_lexer": "ipython3",
   "version": "3.8.2"
  }
 },
 "nbformat": 4,
 "nbformat_minor": 4
}
